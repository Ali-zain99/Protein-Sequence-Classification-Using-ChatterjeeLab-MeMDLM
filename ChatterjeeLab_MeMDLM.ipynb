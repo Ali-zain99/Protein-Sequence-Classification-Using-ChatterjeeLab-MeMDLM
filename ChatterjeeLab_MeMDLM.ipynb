{
  "nbformat": 4,
  "nbformat_minor": 0,
  "metadata": {
    "colab": {
      "private_outputs": true,
      "provenance": [],
      "machine_shape": "hm",
      "gpuType": "A100"
    },
    "kernelspec": {
      "name": "python3",
      "display_name": "Python 3"
    },
    "language_info": {
      "name": "python"
    },
    "accelerator": "GPU"
  },
  "cells": [
    {
      "cell_type": "code",
      "execution_count": null,
      "metadata": {
        "id": "XONM-_YQ1_WK"
      },
      "outputs": [],
      "source": [
        "# Cell 1: Install dependencies\n",
        "!pip install transformers torch --quiet\n"
      ]
    },
    {
      "cell_type": "code",
      "source": [
        "# Cell 2: Import libraries\n",
        "import torch\n",
        "import torch.nn as nn\n",
        "import torch.optim as optim\n",
        "from transformers import AutoTokenizer, AutoModel\n",
        "from sklearn.model_selection import train_test_split\n",
        "from sklearn.metrics import accuracy_score\n"
      ],
      "metadata": {
        "id": "xJtldlpI2D_t"
      },
      "execution_count": null,
      "outputs": []
    },
    {
      "cell_type": "code",
      "source": [
        "# Cell 3: Load tokenizer and model\n",
        "tokenizer = AutoTokenizer.from_pretrained(\"ChatterjeeLab/MeMDLM\")\n",
        "model = AutoModel.from_pretrained(\"ChatterjeeLab/MeMDLM\")\n",
        "model.eval()  # freeze base model\n"
      ],
      "metadata": {
        "id": "q8BVYpKh2GZJ"
      },
      "execution_count": null,
      "outputs": []
    },
    {
      "cell_type": "code",
      "source": [
        "!pip install datasets"
      ],
      "metadata": {
        "id": "0PucaD8ZJykb"
      },
      "execution_count": null,
      "outputs": []
    },
    {
      "cell_type": "code",
      "source": [
        "from google.colab import drive\n",
        "drive.mount('/content/drive')"
      ],
      "metadata": {
        "id": "DMAqi6VbQ4to"
      },
      "execution_count": null,
      "outputs": []
    },
    {
      "cell_type": "code",
      "source": [
        "from transformers import AutoTokenizer, TrainingArguments, Trainer, AutoModelForSequenceClassification\n",
        "import torch\n",
        "from sklearn.metrics import matthews_corrcoef, f1_score\n",
        "from sklearn.model_selection import train_test_split\n",
        "import matplotlib.pyplot as plt\n",
        "import numpy as np\n",
        "\n",
        "from datasets import load_dataset, concatenate_datasets\n",
        "from datasets import Dataset\n",
        "\n",
        "data_path = \"/content/drive/MyDrive/Final Year Project/FYP 2/Dataset\"\n",
        "\n",
        "Kinases= load_dataset('csv', data_files={'Kinases': f'{data_path}/Protein_Kinases.csv'})\n",
        "Phosphatases = load_dataset('csv', data_files={'Phosphatases': f'{data_path}/Protein_Phosphatases.csv'})\n"
      ],
      "metadata": {
        "id": "djYETLy2-_Mu"
      },
      "execution_count": null,
      "outputs": []
    },
    {
      "cell_type": "code",
      "source": [
        "kinases_dataset = Kinases['Kinases']\n",
        "kinases_dataset = kinases_dataset.shuffle(seed=42).select(range(100))\n",
        "phospho_dataset = Phosphatases['Phosphatases']\n",
        "phospho_dataset= phospho_dataset.shuffle(seed=42).select(range(100))\n",
        "print(len(kinases_dataset))\n",
        "kinases_dataset=kinases_dataset.to_pandas()\n",
        "phospho_dataset=phospho_dataset.to_pandas()\n",
        "kinases_dataset['label']=0\n",
        "phospho_dataset['label']=1"
      ],
      "metadata": {
        "id": "aMZYEmgsV8tT"
      },
      "execution_count": null,
      "outputs": []
    },
    {
      "cell_type": "code",
      "source": [
        "kinases_dataset=kinases_dataset[['Sequence','label']]\n",
        "phospho_dataset=phospho_dataset[['Sequence','label']]"
      ],
      "metadata": {
        "id": "etUovlQv-_GP"
      },
      "execution_count": null,
      "outputs": []
    },
    {
      "cell_type": "code",
      "source": [
        "import pandas as pd\n",
        "\n",
        "data = pd.concat([kinases_dataset, phospho_dataset]).reset_index(drop=True)"
      ],
      "metadata": {
        "id": "j_BHzb14R8iy"
      },
      "execution_count": null,
      "outputs": []
    },
    {
      "cell_type": "code",
      "source": [
        "sequences = data['Sequence'].tolist()\n",
        "labels = data['label'].tolist()\n",
        "labels = torch.tensor(labels)"
      ],
      "metadata": {
        "id": "4NZ95Wct2IT1"
      },
      "execution_count": null,
      "outputs": []
    },
    {
      "cell_type": "code",
      "source": [
        "def get_embedding(seq):\n",
        "    inputs = tokenizer(seq, return_tensors=\"pt\")\n",
        "    with torch.no_grad():\n",
        "        output = model(**inputs)\n",
        "        embedding = output.last_hidden_state.mean(dim=1)\n",
        "    return embedding.squeeze(0)\n",
        "\n",
        "embeddings = torch.stack([get_embedding(seq) for seq in sequences])\n"
      ],
      "metadata": {
        "id": "3l0hprTH2Jk7"
      },
      "execution_count": null,
      "outputs": []
    },
    {
      "cell_type": "code",
      "source": [
        "# Cell 6: Define simple classifier\n",
        "class ProteinClassifier(nn.Module):\n",
        "    def __init__(self, hidden_dim):\n",
        "        super().__init__()\n",
        "        self.fc = nn.Linear(hidden_dim, 1)\n",
        "\n",
        "    def forward(self, x):\n",
        "        return torch.sigmoid(self.fc(x))\n",
        "\n",
        "classifier = ProteinClassifier(hidden_dim=embeddings.shape[1])\n",
        "criterion = nn.BCELoss()\n",
        "optimizer = optim.Adam(classifier.parameters(), lr=1e-3)\n"
      ],
      "metadata": {
        "id": "ss5yG12C2K7-"
      },
      "execution_count": null,
      "outputs": []
    },
    {
      "cell_type": "code",
      "source": [
        "from sklearn.model_selection import train_test_split\n",
        "\n",
        "# First, split into train+val and test\n",
        "X_temp, X_test, y_temp, y_test = train_test_split(\n",
        "    embeddings, labels, test_size=0.3, random_state=42\n",
        ")\n",
        "\n",
        "# Then split train+val into train and val\n",
        "X_train, X_val, y_train, y_val = train_test_split(\n",
        "    X_temp, y_temp, test_size=0.20, random_state=42  # 0.25 x 0.8 = 0.2\n",
        ")"
      ],
      "metadata": {
        "id": "Yt4X40yMevjK"
      },
      "execution_count": null,
      "outputs": []
    },
    {
      "cell_type": "code",
      "source": [
        "# Cell 8: Train the classifier and track both training & validation loss\n",
        "train_losses = []\n",
        "val_losses = []\n",
        "\n",
        "for epoch in range(100):\n",
        "    # Training\n",
        "    classifier.train()\n",
        "    optimizer.zero_grad()\n",
        "    outputs = classifier(X_train).squeeze()\n",
        "    train_loss = criterion(outputs, y_train.float())\n",
        "    train_loss.backward()\n",
        "    optimizer.step()\n",
        "\n",
        "    # Validation\n",
        "    classifier.eval()\n",
        "    with torch.no_grad():\n",
        "        val_outputs = classifier(X_val).squeeze()\n",
        "        val_loss = criterion(val_outputs, y_val.float())\n",
        "\n",
        "    train_losses.append(train_loss.item())\n",
        "    val_losses.append(val_loss.item())\n",
        "\n",
        "    if (epoch + 1) % 10 == 0:\n",
        "        print(f\"Epoch {epoch+1}, Train Loss: {train_loss.item():.4f}, Val Loss: {val_loss.item():.4f}\")\n"
      ],
      "metadata": {
        "id": "ij9-4ajHe1Yu"
      },
      "execution_count": null,
      "outputs": []
    },
    {
      "cell_type": "code",
      "source": [
        "# Cell 9: Plot training and validation loss\n",
        "import matplotlib.pyplot as plt\n",
        "\n",
        "plt.plot(train_losses, label='Train Loss')\n",
        "plt.plot(val_losses, label='Validation Loss')\n",
        "plt.xlabel('Epoch')\n",
        "plt.ylabel('Loss')\n",
        "plt.title('Training vs Validation Loss')\n",
        "plt.legend()\n",
        "plt.grid(True)\n",
        "plt.show()\n"
      ],
      "metadata": {
        "id": "_EuXC6eHe4BI"
      },
      "execution_count": null,
      "outputs": []
    },
    {
      "cell_type": "code",
      "source": [
        "print(len(X_train[0]))"
      ],
      "metadata": {
        "id": "cT6aGjMP94Ny"
      },
      "execution_count": null,
      "outputs": []
    },
    {
      "cell_type": "code",
      "source": [
        "from sklearn.metrics import accuracy_score\n",
        "# Cell 8: Evaluate on one test sequence\n",
        "classifier.eval()\n",
        "with torch.no_grad():\n",
        "    test_output = classifier(X_test).squeeze()\n",
        "    predicted = (test_output > 0.5).int()\n",
        "    print(\"True Label:\", y_test.tolist())\n",
        "    print(\"Predicted:\", predicted.tolist())\n",
        "    accuracy = accuracy_score(y_test, predicted)\n",
        "\n",
        "print(f\"Test Accuracy: {accuracy * 100:.2f}%\")\n"
      ],
      "metadata": {
        "id": "OrI88JL42OER"
      },
      "execution_count": null,
      "outputs": []
    },
    {
      "cell_type": "code",
      "source": [
        "# Cell 9: Predict label for a new protein sequence\n",
        "new_sequence = \"MAALSGGGGGGAEPGQALFNGDMEPEAGAGAGAAASSAADPAIPEEVWNIKQMIKLTQEHIEALLDKFGGEHNPPSIYLEAYEEYTSKLDALQQREQQLLESLGNGTDFSVSSSASMDTVTSSSSSSLSVLPSSLSVFQNPTDVARSNPKSPQKPIVRVFLPNKQRTVVPARCGVTVRDSLKKALMMRGLIPECCAVYRIQDGEKKPIGWDTDISWLTGEELHVEVLENVPLTTHNFVRKTFFTLAFCDFCRKLLFQGFRCQTCGYKFHQRCSTEVPLMCVNYDQLDLLFVSKFFEHHPIPQEEASLAETALTSGSSPSAPASDSIGPQILTSPSPSKSIPIPQPFRPADEDHRNQFGQRDRSSSAPNVHINTIEPVNIDDLIRDQGFRGDGAPLNQLMRCLRKYQSRTPSPLLHSVPSEIVFDFEPGPVFRGSTTGLSATPPASLPGSLTNVKALQKSPGPQRERKSSSSSEDRNRMKTLGRRDSSDDWEIPDGQITVGQRIGSGSFGTVYKGKWHGDVAVKMLNVTAPTPQQLQAFKNEVGVLRKTRHVNILLFMGYSTKPQLAIVTQWCEGSSLYHHLHIIETKFEMIKLIDIARQTAQGMDYLHAKSIIHRDLKSNNIFLHEDLTVKIGDFGLATVKSRWSGSHQFEQLSGSILWMAPEVIRMQDKNPYSFQSDVYAFGIVLYELMTGQLPYSNINNRDQIIFMVGRGYLSPDLSKVRSNCPKAMKRLMAECLKKKRDERPLFPQILASIELLARSLPKIHRSASEPSLNRAGFQTEDFSLYACASPKTPIQAGGYGEFAAFK\"  # you can change this to any sequence\n",
        "new_embedding = get_embedding(new_sequence)\n",
        "\n",
        "classifier.eval()\n",
        "with torch.no_grad():\n",
        "    prediction = classifier(new_embedding.unsqueeze(0)).item()\n",
        "    predicted_label = int(prediction > 0.5)\n",
        "\n",
        "print(f\"New Sequence: {new_sequence}\")\n",
        "print(f\"Predicted Score: {prediction:.4f}\")\n",
        "print(f\"Predicted Label: {predicted_label}\")\n"
      ],
      "metadata": {
        "id": "0GmQvipm2Pvm"
      },
      "execution_count": null,
      "outputs": []
    },
    {
      "cell_type": "code",
      "source": [
        "torch.save(classifier.state_dict(), \"/content/drive/MyDrive/Final Year Project/FYP 2/Implementation/ChatterjeeLab MeMDLM/model.pt\")\n"
      ],
      "metadata": {
        "id": "cg-vzB5o4QbU"
      },
      "execution_count": null,
      "outputs": []
    },
    {
      "cell_type": "code",
      "source": [
        "# Define same architecture as before\n",
        "class ProteinClassifier(nn.Module):\n",
        "    def __init__(self, input_dim):\n",
        "        super(ProteinClassifier, self).__init__()\n",
        "        self.fc = nn.Linear(input_dim, 1)\n",
        "\n",
        "    def forward(self, x):\n",
        "        return torch.sigmoid(self.fc(x))\n",
        "\n",
        "# Initialize with correct input dimension\n",
        "classifier = ProteinClassifier(input_dim=embeddings.shape[1])\n",
        "\n",
        "# Load weights\n",
        "classifier.load_state_dict(torch.load(\"/content/drive/MyDrive/Final Year Project/FYP 2/Implementation/ChatterjeeLab MeMDLM/model.pt\"))\n",
        "classifier.eval()\n",
        "\n",
        "# Evaluate on test data\n",
        "with torch.no_grad():\n",
        "    test_output = classifier(X_test).squeeze()\n",
        "    predicted = (test_output > 0.5).int()\n",
        "    print(\"True Labels:\", y_test.tolist())\n",
        "    print(\"Predicted:\", predicted.tolist())\n",
        "    accuracy = accuracy_score(y_test, predicted)\n",
        "\n",
        "print(f\"Test Accuracy: {accuracy * 100:.2f}%\")\n"
      ],
      "metadata": {
        "id": "B5w1n7BjtXnN"
      },
      "execution_count": null,
      "outputs": []
    },
    {
      "cell_type": "code",
      "source": [],
      "metadata": {
        "id": "cXnHwwptbwwo"
      },
      "execution_count": null,
      "outputs": []
    }
  ]
}